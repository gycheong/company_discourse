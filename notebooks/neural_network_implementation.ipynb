{
 "cells": [
  {
   "cell_type": "markdown",
   "metadata": {},
   "source": [
    "## Feedforward Neural Network Implementation"
   ]
  },
  {
   "cell_type": "code",
   "execution_count": 1,
   "metadata": {},
   "outputs": [],
   "source": [
    "import pandas as pd\n",
    "import numpy as np\n",
    "import matplotlib.pyplot as plt\n",
    "import tqdm\n",
    "import copy\n",
    "\n",
    "import torch\n",
    "import torch.nn as nn\n",
    "import torch.optim as optim\n",
    "\n",
    "from sklearn.model_selection import train_test_split, KFold, StratifiedKFold\n",
    "from sklearn.preprocessing import OneHotEncoder\n",
    "from sklearn.metrics import confusion_matrix\n",
    "from sklearn.metrics import ConfusionMatrixDisplay\n",
    "from imblearn.under_sampling import RandomUnderSampler"
   ]
  },
  {
   "cell_type": "code",
   "execution_count": 2,
   "metadata": {},
   "outputs": [
    {
     "data": {
      "text/html": [
       "<div>\n",
       "<style scoped>\n",
       "    .dataframe tbody tr th:only-of-type {\n",
       "        vertical-align: middle;\n",
       "    }\n",
       "\n",
       "    .dataframe tbody tr th {\n",
       "        vertical-align: top;\n",
       "    }\n",
       "\n",
       "    .dataframe thead th {\n",
       "        text-align: right;\n",
       "    }\n",
       "</style>\n",
       "<table border=\"1\" class=\"dataframe\">\n",
       "  <thead>\n",
       "    <tr style=\"text-align: right;\">\n",
       "      <th></th>\n",
       "      <th>user_id</th>\n",
       "      <th>name</th>\n",
       "      <th>time</th>\n",
       "      <th>rating</th>\n",
       "      <th>text</th>\n",
       "      <th>pics</th>\n",
       "      <th>resp</th>\n",
       "      <th>gmap_id</th>\n",
       "      <th>vector</th>\n",
       "    </tr>\n",
       "  </thead>\n",
       "  <tbody>\n",
       "    <tr>\n",
       "      <th>0</th>\n",
       "      <td>108341711662008461816</td>\n",
       "      <td>Rod Powell</td>\n",
       "      <td>1580509229183</td>\n",
       "      <td>5</td>\n",
       "      <td>Great service. Nice folks. Very helpful.</td>\n",
       "      <td>None</td>\n",
       "      <td>None</td>\n",
       "      <td>0x88626b6a29df9fb1:0x868c85d23dc91564</td>\n",
       "      <td>[0.0068788542, 0.029086296, -0.011112881, 0.00...</td>\n",
       "    </tr>\n",
       "    <tr>\n",
       "      <th>1</th>\n",
       "      <td>100886664024661856987</td>\n",
       "      <td>zach smithson</td>\n",
       "      <td>1489608374532</td>\n",
       "      <td>5</td>\n",
       "      <td>Amazing how much cheaper their hearing aids ar...</td>\n",
       "      <td>[{'url': ['https://lh5.googleusercontent.com/p...</td>\n",
       "      <td>None</td>\n",
       "      <td>0x88626b6a29df9fb1:0x868c85d23dc91564</td>\n",
       "      <td>[-0.05165099, 0.008153723, -0.04912399, 0.0030...</td>\n",
       "    </tr>\n",
       "    <tr>\n",
       "      <th>2</th>\n",
       "      <td>104116808865576923879</td>\n",
       "      <td>George “Stovie” Moore</td>\n",
       "      <td>1623169525640</td>\n",
       "      <td>1</td>\n",
       "      <td>I find Hoover, Alabama Costco’s tire service t...</td>\n",
       "      <td>None</td>\n",
       "      <td>None</td>\n",
       "      <td>0x888922182c25426d:0xabf1b10efa159b19</td>\n",
       "      <td>[-0.014003422, 0.008204368, 0.011449834, 0.019...</td>\n",
       "    </tr>\n",
       "    <tr>\n",
       "      <th>3</th>\n",
       "      <td>113636820761208623071</td>\n",
       "      <td>Erica Disbrow</td>\n",
       "      <td>1613357729329</td>\n",
       "      <td>5</td>\n",
       "      <td>Lambert was so nice, professional, and caring!...</td>\n",
       "      <td>None</td>\n",
       "      <td>None</td>\n",
       "      <td>0x888922182c25426d:0xabf1b10efa159b19</td>\n",
       "      <td>[-0.010003155, 0.01936056, -0.009762309, 0.020...</td>\n",
       "    </tr>\n",
       "    <tr>\n",
       "      <th>4</th>\n",
       "      <td>101232786196219574483</td>\n",
       "      <td>Roy Martin</td>\n",
       "      <td>1613138521284</td>\n",
       "      <td>5</td>\n",
       "      <td>I needed new tires and Costco's price was $400...</td>\n",
       "      <td>None</td>\n",
       "      <td>None</td>\n",
       "      <td>0x888922182c25426d:0xabf1b10efa159b19</td>\n",
       "      <td>[-0.043057095, 0.019696508, 0.003782874, 0.008...</td>\n",
       "    </tr>\n",
       "    <tr>\n",
       "      <th>...</th>\n",
       "      <td>...</td>\n",
       "      <td>...</td>\n",
       "      <td>...</td>\n",
       "      <td>...</td>\n",
       "      <td>...</td>\n",
       "      <td>...</td>\n",
       "      <td>...</td>\n",
       "      <td>...</td>\n",
       "      <td>...</td>\n",
       "    </tr>\n",
       "    <tr>\n",
       "      <th>788761</th>\n",
       "      <td>108851483128030774999</td>\n",
       "      <td>Odysseas</td>\n",
       "      <td>1458534609705</td>\n",
       "      <td>5</td>\n",
       "      <td>It's Costco.</td>\n",
       "      <td>None</td>\n",
       "      <td>None</td>\n",
       "      <td>0x8807a8cdc249ad79:0x3fdbf3ca7f0a43bf</td>\n",
       "      <td>[-0.03667649, -0.01456362, -0.01608518, 0.0076...</td>\n",
       "    </tr>\n",
       "    <tr>\n",
       "      <th>788762</th>\n",
       "      <td>105468512214130057994</td>\n",
       "      <td>Chuck Anderson</td>\n",
       "      <td>1431844304443</td>\n",
       "      <td>5</td>\n",
       "      <td>Outstanding</td>\n",
       "      <td>None</td>\n",
       "      <td>None</td>\n",
       "      <td>0x8807a8cdc249ad79:0x3fdbf3ca7f0a43bf</td>\n",
       "      <td>[0.008467636, -0.014427097, -0.027180135, 0.00...</td>\n",
       "    </tr>\n",
       "    <tr>\n",
       "      <th>788763</th>\n",
       "      <td>101071427934910005277</td>\n",
       "      <td>o Abdoko</td>\n",
       "      <td>1417168632053</td>\n",
       "      <td>5</td>\n",
       "      <td>nice place))</td>\n",
       "      <td>None</td>\n",
       "      <td>None</td>\n",
       "      <td>0x8807a8cdc249ad79:0x3fdbf3ca7f0a43bf</td>\n",
       "      <td>[-0.034930643, 0.015595584, -0.0100806365, 0.0...</td>\n",
       "    </tr>\n",
       "    <tr>\n",
       "      <th>788764</th>\n",
       "      <td>100180472161950539260</td>\n",
       "      <td>Bill Brasky</td>\n",
       "      <td>1351948282842</td>\n",
       "      <td>5</td>\n",
       "      <td>The actually pay the employees unlike Sams.</td>\n",
       "      <td>None</td>\n",
       "      <td>None</td>\n",
       "      <td>0x8807a8cdc249ad79:0x3fdbf3ca7f0a43bf</td>\n",
       "      <td>[-0.0036253948, 0.0067303316, -0.025239518, -0...</td>\n",
       "    </tr>\n",
       "    <tr>\n",
       "      <th>788765</th>\n",
       "      <td>113490359479950675390</td>\n",
       "      <td>Greg Holz</td>\n",
       "      <td>1322004111144</td>\n",
       "      <td>5</td>\n",
       "      <td>It's Costco what's not to like?</td>\n",
       "      <td>None</td>\n",
       "      <td>None</td>\n",
       "      <td>0x8807a8cdc249ad79:0x3fdbf3ca7f0a43bf</td>\n",
       "      <td>[-0.029241083, 0.009503456, -0.0032616367, 0.0...</td>\n",
       "    </tr>\n",
       "  </tbody>\n",
       "</table>\n",
       "<p>788766 rows × 9 columns</p>\n",
       "</div>"
      ],
      "text/plain": [
       "                      user_id                   name           time  rating  \\\n",
       "0       108341711662008461816             Rod Powell  1580509229183       5   \n",
       "1       100886664024661856987          zach smithson  1489608374532       5   \n",
       "2       104116808865576923879  George “Stovie” Moore  1623169525640       1   \n",
       "3       113636820761208623071          Erica Disbrow  1613357729329       5   \n",
       "4       101232786196219574483             Roy Martin  1613138521284       5   \n",
       "...                       ...                    ...            ...     ...   \n",
       "788761  108851483128030774999               Odysseas  1458534609705       5   \n",
       "788762  105468512214130057994         Chuck Anderson  1431844304443       5   \n",
       "788763  101071427934910005277               o Abdoko  1417168632053       5   \n",
       "788764  100180472161950539260            Bill Brasky  1351948282842       5   \n",
       "788765  113490359479950675390              Greg Holz  1322004111144       5   \n",
       "\n",
       "                                                     text  \\\n",
       "0                Great service. Nice folks. Very helpful.   \n",
       "1       Amazing how much cheaper their hearing aids ar...   \n",
       "2       I find Hoover, Alabama Costco’s tire service t...   \n",
       "3       Lambert was so nice, professional, and caring!...   \n",
       "4       I needed new tires and Costco's price was $400...   \n",
       "...                                                   ...   \n",
       "788761                                       It's Costco.   \n",
       "788762                                        Outstanding   \n",
       "788763                                       nice place))   \n",
       "788764        The actually pay the employees unlike Sams.   \n",
       "788765                    It's Costco what's not to like?   \n",
       "\n",
       "                                                     pics  resp  \\\n",
       "0                                                    None  None   \n",
       "1       [{'url': ['https://lh5.googleusercontent.com/p...  None   \n",
       "2                                                    None  None   \n",
       "3                                                    None  None   \n",
       "4                                                    None  None   \n",
       "...                                                   ...   ...   \n",
       "788761                                               None  None   \n",
       "788762                                               None  None   \n",
       "788763                                               None  None   \n",
       "788764                                               None  None   \n",
       "788765                                               None  None   \n",
       "\n",
       "                                      gmap_id  \\\n",
       "0       0x88626b6a29df9fb1:0x868c85d23dc91564   \n",
       "1       0x88626b6a29df9fb1:0x868c85d23dc91564   \n",
       "2       0x888922182c25426d:0xabf1b10efa159b19   \n",
       "3       0x888922182c25426d:0xabf1b10efa159b19   \n",
       "4       0x888922182c25426d:0xabf1b10efa159b19   \n",
       "...                                       ...   \n",
       "788761  0x8807a8cdc249ad79:0x3fdbf3ca7f0a43bf   \n",
       "788762  0x8807a8cdc249ad79:0x3fdbf3ca7f0a43bf   \n",
       "788763  0x8807a8cdc249ad79:0x3fdbf3ca7f0a43bf   \n",
       "788764  0x8807a8cdc249ad79:0x3fdbf3ca7f0a43bf   \n",
       "788765  0x8807a8cdc249ad79:0x3fdbf3ca7f0a43bf   \n",
       "\n",
       "                                                   vector  \n",
       "0       [0.0068788542, 0.029086296, -0.011112881, 0.00...  \n",
       "1       [-0.05165099, 0.008153723, -0.04912399, 0.0030...  \n",
       "2       [-0.014003422, 0.008204368, 0.011449834, 0.019...  \n",
       "3       [-0.010003155, 0.01936056, -0.009762309, 0.020...  \n",
       "4       [-0.043057095, 0.019696508, 0.003782874, 0.008...  \n",
       "...                                                   ...  \n",
       "788761  [-0.03667649, -0.01456362, -0.01608518, 0.0076...  \n",
       "788762  [0.008467636, -0.014427097, -0.027180135, 0.00...  \n",
       "788763  [-0.034930643, 0.015595584, -0.0100806365, 0.0...  \n",
       "788764  [-0.0036253948, 0.0067303316, -0.025239518, -0...  \n",
       "788765  [-0.029241083, 0.009503456, -0.0032616367, 0.0...  \n",
       "\n",
       "[788766 rows x 9 columns]"
      ]
     },
     "execution_count": 2,
     "metadata": {},
     "output_type": "execute_result"
    }
   ],
   "source": [
    "df = pd.read_parquet(\"costco_2021_reviews_filtered_vectorized_final.parquet\")\n",
    "df"
   ]
  },
  {
   "cell_type": "code",
   "execution_count": 3,
   "metadata": {},
   "outputs": [],
   "source": [
    "X = df[['vector']]\n",
    "y = df[['rating']]"
   ]
  },
  {
   "cell_type": "code",
   "execution_count": 4,
   "metadata": {},
   "outputs": [],
   "source": [
    "X_train, X_val, y_train, y_val = train_test_split(X, y, stratify=y, test_size = 0.2, random_state=123)\n",
    "\n",
    "# splitting train set and validation set\n",
    "# then we split it train set into 11-folds to build models"
   ]
  },
  {
   "cell_type": "code",
   "execution_count": 5,
   "metadata": {},
   "outputs": [],
   "source": [
    "# One hot encoding\n",
    "\n",
    "ohe_y_train = OneHotEncoder(handle_unknown='ignore', sparse_output=False).fit(y_train)\n",
    "y_train_ohe = ohe_y_train.transform(y_train)\n",
    "\n",
    "ohe_y_val = OneHotEncoder(handle_unknown='ignore', sparse_output=False).fit(y_val)\n",
    "y_val_ohe = ohe_y_val.transform(y_val)"
   ]
  },
  {
   "cell_type": "code",
   "execution_count": 6,
   "metadata": {},
   "outputs": [],
   "source": [
    "# 11-fold split\n",
    "\n",
    "kfold = StratifiedKFold(n_splits=11,\n",
    "                        shuffle=True,\n",
    "                        random_state=123)"
   ]
  },
  {
   "cell_type": "code",
   "execution_count": 7,
   "metadata": {},
   "outputs": [
    {
     "data": {
      "text/html": [
       "<div>\n",
       "<style scoped>\n",
       "    .dataframe tbody tr th:only-of-type {\n",
       "        vertical-align: middle;\n",
       "    }\n",
       "\n",
       "    .dataframe tbody tr th {\n",
       "        vertical-align: top;\n",
       "    }\n",
       "\n",
       "    .dataframe thead th {\n",
       "        text-align: right;\n",
       "    }\n",
       "</style>\n",
       "<table border=\"1\" class=\"dataframe\">\n",
       "  <thead>\n",
       "    <tr style=\"text-align: right;\">\n",
       "      <th></th>\n",
       "      <th>rating</th>\n",
       "    </tr>\n",
       "  </thead>\n",
       "  <tbody>\n",
       "    <tr>\n",
       "      <th>454918</th>\n",
       "      <td>5</td>\n",
       "    </tr>\n",
       "    <tr>\n",
       "      <th>650929</th>\n",
       "      <td>3</td>\n",
       "    </tr>\n",
       "    <tr>\n",
       "      <th>178555</th>\n",
       "      <td>5</td>\n",
       "    </tr>\n",
       "    <tr>\n",
       "      <th>152563</th>\n",
       "      <td>3</td>\n",
       "    </tr>\n",
       "    <tr>\n",
       "      <th>164631</th>\n",
       "      <td>5</td>\n",
       "    </tr>\n",
       "    <tr>\n",
       "      <th>...</th>\n",
       "      <td>...</td>\n",
       "    </tr>\n",
       "    <tr>\n",
       "      <th>597598</th>\n",
       "      <td>5</td>\n",
       "    </tr>\n",
       "    <tr>\n",
       "      <th>608852</th>\n",
       "      <td>1</td>\n",
       "    </tr>\n",
       "    <tr>\n",
       "      <th>457860</th>\n",
       "      <td>5</td>\n",
       "    </tr>\n",
       "    <tr>\n",
       "      <th>132734</th>\n",
       "      <td>5</td>\n",
       "    </tr>\n",
       "    <tr>\n",
       "      <th>434436</th>\n",
       "      <td>5</td>\n",
       "    </tr>\n",
       "  </tbody>\n",
       "</table>\n",
       "<p>631012 rows × 1 columns</p>\n",
       "</div>"
      ],
      "text/plain": [
       "        rating\n",
       "454918       5\n",
       "650929       3\n",
       "178555       5\n",
       "152563       3\n",
       "164631       5\n",
       "...        ...\n",
       "597598       5\n",
       "608852       1\n",
       "457860       5\n",
       "132734       5\n",
       "434436       5\n",
       "\n",
       "[631012 rows x 1 columns]"
      ]
     },
     "execution_count": 7,
     "metadata": {},
     "output_type": "execute_result"
    }
   ],
   "source": [
    "y_train"
   ]
  },
  {
   "cell_type": "code",
   "execution_count": 8,
   "metadata": {},
   "outputs": [
    {
     "data": {
      "text/plain": [
       "array([[0., 0., 0., 0., 1.],\n",
       "       [0., 0., 1., 0., 0.],\n",
       "       [0., 0., 0., 0., 1.],\n",
       "       ...,\n",
       "       [0., 0., 0., 0., 1.],\n",
       "       [0., 0., 0., 0., 1.],\n",
       "       [0., 0., 0., 0., 1.]])"
      ]
     },
     "execution_count": 8,
     "metadata": {},
     "output_type": "execute_result"
    }
   ],
   "source": [
    "y_train_ohe"
   ]
  },
  {
   "cell_type": "code",
   "execution_count": 9,
   "metadata": {},
   "outputs": [
    {
     "data": {
      "text/plain": [
       "tensor([0.0497, 0.0238, 0.0612, 0.1959, 0.6694], dtype=torch.float64)"
      ]
     },
     "execution_count": 9,
     "metadata": {},
     "output_type": "execute_result"
    }
   ],
   "source": [
    "# can note the imbalance of data here\n",
    "\n",
    "prob = torch.tensor(y_train_ohe).mean(dim=0)\n",
    "prob"
   ]
  },
  {
   "cell_type": "code",
   "execution_count": 10,
   "metadata": {},
   "outputs": [],
   "source": [
    "# FFN: Linear (1024,6) -> ReLu() -> 2 hidden layers ReLU(Linear(6, 6)) -> Linear(6, 5)\n",
    "\n",
    "class Multiclass(nn.Module): # https://pytorch.org/docs/stable/generated/torch.nn.Module.html\n",
    "    def __init__(self):\n",
    "        super().__init__() # needed to use nn.Module\n",
    "        self.input = nn.Linear(1024, 6) # input 1024 x 1 column vector\n",
    "        self.act = nn.ReLU() # activation function\n",
    "        self.hidden = nn.Linear(6, 6)\n",
    "        self.output = nn.Linear(6, 5) # output 5 x 1 column vector\n",
    "\n",
    "    def n_steps(self, x, n):\n",
    "        for i in range(n):\n",
    "            x = self.hidden(self.act(x))\n",
    "        return x\n",
    "\n",
    "    def forward(self, x):\n",
    "        x = self.input(x)\n",
    "        x = self.n_steps(x, 2)\n",
    "        x = self.act(x)\n",
    "        x = self.output(x)\n",
    "        return x"
   ]
  },
  {
   "cell_type": "code",
   "execution_count": 11,
   "metadata": {},
   "outputs": [],
   "source": [
    "# loss funtion to penalize unbalanced data (ended up not using it as much)\n",
    "\n",
    "def loss_bal(y_batch):\n",
    "    prob = y_batch.mean(dim=0)\n",
    "    expected_value = prob * torch.tensor([1, 2, 3, 4, 5]).sum()\n",
    "    loss = torch.mean((expected_value - 3)**2)\n",
    "\n",
    "    return loss"
   ]
  },
  {
   "cell_type": "code",
   "execution_count": 12,
   "metadata": {},
   "outputs": [],
   "source": [
    "c_entropy = nn.CrossEntropyLoss() # cross entropy loss"
   ]
  },
  {
   "cell_type": "code",
   "execution_count": 13,
   "metadata": {},
   "outputs": [
    {
     "data": {
      "text/plain": [
       "tensor(13.1965, dtype=torch.float64)"
      ]
     },
     "execution_count": 13,
     "metadata": {},
     "output_type": "execute_result"
    }
   ],
   "source": [
    "loss_bal(torch.tensor(y_train_ohe)) # measuring imbalance of data (0 being perfectly balanced)"
   ]
  },
  {
   "cell_type": "code",
   "execution_count": 14,
   "metadata": {},
   "outputs": [
    {
     "name": "stderr",
     "output_type": "stream",
     "text": [
      "C:\\Users\\Gil\\AppData\\Local\\Temp\\ipykernel_22804\\472960837.py:3: UserWarning: Creating a tensor from a list of numpy.ndarrays is extremely slow. Please consider converting the list to a single numpy.ndarray with numpy.array() before converting to a tensor. (Triggered internally at ..\\torch\\csrc\\utils\\tensor_new.cpp:278.)\n",
      "  X_train_tensor = torch.tensor(X_train.values.tolist(), dtype = torch.float32)\n"
     ]
    }
   ],
   "source": [
    "# tensorize data\n",
    "\n",
    "X_train_tensor = torch.tensor(X_train.values.tolist(), dtype = torch.float32)\n",
    "X_val_tensor = torch.tensor(X_val.values.tolist(), dtype = torch.float32)\n",
    "\n",
    "y_train_ohe_tensor = torch.tensor(y_train_ohe, dtype = torch.float32)\n",
    "y_val_ohe_tensor = torch.tensor(y_val_ohe, dtype = torch.float32)  "
   ]
  },
  {
   "cell_type": "code",
   "execution_count": 15,
   "metadata": {},
   "outputs": [],
   "source": [
    "# n_epochs = number of epochs (This doesn't need to be too large because in each epoach there are many updates)\n",
    "# batch_size: size of each batch = 10\n",
    "# X_tt, y_tt train sets among X_train, y_train\n",
    "# X_ho, y_ho validation sets among X_train, y_train (ho for \"holdout\")\n",
    "\n",
    "def train_model(model, n_epochs, batch_size, X_tt, y_tt, X_ho, y_ho):\n",
    "\n",
    "    optimizer = optim.Adam(model.parameters(), lr = 0.001)\n",
    "\n",
    "    best_acc = - np.inf   # init to negative infinity\n",
    "    best_weights = None\n",
    "\n",
    "    train_loss_hist = []\n",
    "    train_acc_hist = []\n",
    "    test_loss_hist = []\n",
    "    test_acc_hist = []\n",
    "    \n",
    "    for epoch in range(n_epochs):\n",
    "        epoch_loss = []\n",
    "        epoch_acc = []\n",
    "        \n",
    "        # set model in training mode and run through each batch\n",
    "        # batches are paritions of the training set\n",
    "\n",
    "        model.train()\n",
    "        n_batches = len(X_tt) // batch_size # number of batches (per epoch)\n",
    "\n",
    "        with tqdm.trange(n_batches, unit = \"batch\", mininterval=0) as bar: # bar consists of batches \n",
    "            bar.set_description(f\"Epoch {epoch}\")\n",
    "            for i in bar:\n",
    "                # take a batch\n",
    "                start = i * batch_size\n",
    "                X_tt_batch = X_tt[start : start + batch_size]\n",
    "                y_tt_batch = y_tt[start : start + batch_size]\n",
    "\n",
    "                # forward pass\n",
    "                y_tt_pred = model(X_tt_batch)\n",
    "                \n",
    "                loss_fn = nn.CrossEntropyLoss()\n",
    "                loss = loss_fn(y_tt_pred, y_tt_batch) # Loss\n",
    "\n",
    "                # backward pass\n",
    "                optimizer.zero_grad() # set the grads to none\n",
    "                loss.backward()\n",
    "\n",
    "                # update parameters (weight and bias)\n",
    "                optimizer.step()\n",
    "\n",
    "                # compute and store metrics\n",
    "                acc = (torch.argmax(y_tt_batch, 1) == torch.argmax(y_tt_pred, 1)).float().mean()\n",
    "                epoch_loss.append(float(loss))\n",
    "                epoch_acc.append(float(acc))\n",
    "\n",
    "                bar.set_postfix(\n",
    "                    loss = float(loss),\n",
    "                    acc = float(acc)\n",
    "                )\n",
    "                \n",
    "\n",
    "        # set model in evaluation mode and run through the test set\n",
    "        model.eval()\n",
    "        \n",
    "        y_pred = model(X_ho)\n",
    "        ce = c_entropy(y_pred, y_ho) # cross entropy\n",
    "        acc = (torch.argmax(y_ho, 1) == torch.argmax(y_pred, 1)).float().mean()\n",
    "        ce = float(ce)\n",
    "        acc = float(acc)\n",
    "        \n",
    "        train_loss_hist.append(np.mean(epoch_loss))\n",
    "        train_acc_hist.append(np.mean(epoch_acc))\n",
    "        test_loss_hist.append(ce)\n",
    "        test_acc_hist.append(acc)\n",
    "        \n",
    "        if acc > best_acc:\n",
    "            best_acc = acc\n",
    "            best_weights = copy.deepcopy(model.state_dict())\n",
    "            print(f\"Epoch {epoch} validation: Cross-entropy = {ce}, Accuracy = {acc}\")\n",
    "\n",
    "        model.load_state_dict(best_weights)\n",
    "\n",
    "    return [train_loss_hist, train_acc_hist, test_loss_hist, test_acc_hist]"
   ]
  },
  {
   "cell_type": "markdown",
   "metadata": {},
   "source": [
    "### FFN without Random Undersampling"
   ]
  },
  {
   "cell_type": "code",
   "execution_count": 16,
   "metadata": {},
   "outputs": [],
   "source": [
    "model = [Multiclass() for i in range(11)]\n",
    "test_result = []\n",
    "\n",
    "indices = [[train_index, test_index] for train_index, test_index in kfold.split(X_train, y_train)]\n",
    "train_indices = list(map(lambda L : L[0], indices))\n",
    "test_indices = list(map(lambda L : L[1], indices))"
   ]
  },
  {
   "cell_type": "code",
   "execution_count": 17,
   "metadata": {},
   "outputs": [
    {
     "name": "stdout",
     "output_type": "stream",
     "text": [
      "Fold No. 1 out of 11 folds\n"
     ]
    },
    {
     "name": "stderr",
     "output_type": "stream",
     "text": [
      "Epoch 0: 100%|██████████| 57364/57364 [02:36<00:00, 367.16batch/s, acc=0.6, loss=0.949]\n"
     ]
    },
    {
     "name": "stdout",
     "output_type": "stream",
     "text": [
      "Epoch 0 validation: Cross-entropy = 0.6596171855926514, Accuracy = 0.7410964965820312\n"
     ]
    },
    {
     "name": "stderr",
     "output_type": "stream",
     "text": [
      "Epoch 1: 100%|██████████| 57364/57364 [02:24<00:00, 395.76batch/s, acc=0.6, loss=0.972]\n"
     ]
    },
    {
     "name": "stdout",
     "output_type": "stream",
     "text": [
      "Epoch 1 validation: Cross-entropy = 0.6559208035469055, Accuracy = 0.7419332265853882\n",
      "\n",
      "Fold No. 2 out of 11 folds\n"
     ]
    },
    {
     "name": "stderr",
     "output_type": "stream",
     "text": [
      "Epoch 0: 100%|██████████| 57364/57364 [02:24<00:00, 398.01batch/s, acc=0.5, loss=1.23] \n"
     ]
    },
    {
     "name": "stdout",
     "output_type": "stream",
     "text": [
      "Epoch 0 validation: Cross-entropy = 0.6587987542152405, Accuracy = 0.7373485565185547\n"
     ]
    },
    {
     "name": "stderr",
     "output_type": "stream",
     "text": [
      "Epoch 1: 100%|██████████| 57364/57364 [02:29<00:00, 384.31batch/s, acc=0.5, loss=1.25] \n"
     ]
    },
    {
     "name": "stdout",
     "output_type": "stream",
     "text": [
      "Epoch 1 validation: Cross-entropy = 0.6548859477043152, Accuracy = 0.7385513782501221\n",
      "\n",
      "Fold No. 3 out of 11 folds\n"
     ]
    },
    {
     "name": "stderr",
     "output_type": "stream",
     "text": [
      "Epoch 0: 100%|██████████| 57364/57364 [02:31<00:00, 378.98batch/s, acc=0.5, loss=1.32] \n"
     ]
    },
    {
     "name": "stdout",
     "output_type": "stream",
     "text": [
      "Epoch 0 validation: Cross-entropy = 0.6596567630767822, Accuracy = 0.7385513782501221\n"
     ]
    },
    {
     "name": "stderr",
     "output_type": "stream",
     "text": [
      "Epoch 1: 100%|██████████| 57364/57364 [02:34<00:00, 371.37batch/s, acc=0.5, loss=1.3]  \n"
     ]
    },
    {
     "name": "stdout",
     "output_type": "stream",
     "text": [
      "Epoch 1 validation: Cross-entropy = 0.6559200286865234, Accuracy = 0.739388108253479\n",
      "\n",
      "Fold No. 4 out of 11 folds\n"
     ]
    },
    {
     "name": "stderr",
     "output_type": "stream",
     "text": [
      "Epoch 0: 100%|██████████| 57364/57364 [02:33<00:00, 373.19batch/s, acc=0.5, loss=1.11] \n"
     ]
    },
    {
     "name": "stdout",
     "output_type": "stream",
     "text": [
      "Epoch 0 validation: Cross-entropy = 0.7020779848098755, Accuracy = 0.7177721858024597\n"
     ]
    },
    {
     "name": "stderr",
     "output_type": "stream",
     "text": [
      "Epoch 1: 100%|██████████| 57364/57364 [02:37<00:00, 364.36batch/s, acc=0.6, loss=1.11] \n"
     ]
    },
    {
     "name": "stdout",
     "output_type": "stream",
     "text": [
      "Epoch 1 validation: Cross-entropy = 0.6979532837867737, Accuracy = 0.7192887663841248\n",
      "\n",
      "Fold No. 5 out of 11 folds\n"
     ]
    },
    {
     "name": "stderr",
     "output_type": "stream",
     "text": [
      "Epoch 0: 100%|██████████| 57364/57364 [02:24<00:00, 396.65batch/s, acc=0.6, loss=1.13] \n"
     ]
    },
    {
     "name": "stdout",
     "output_type": "stream",
     "text": [
      "Epoch 0 validation: Cross-entropy = 0.6539343595504761, Accuracy = 0.7410964965820312\n"
     ]
    },
    {
     "name": "stderr",
     "output_type": "stream",
     "text": [
      "Epoch 1: 100%|██████████| 57364/57364 [02:24<00:00, 395.87batch/s, acc=0.6, loss=1.19] \n"
     ]
    },
    {
     "name": "stdout",
     "output_type": "stream",
     "text": [
      "Epoch 1 validation: Cross-entropy = 0.6506490111351013, Accuracy = 0.7430837750434875\n",
      "\n",
      "Fold No. 6 out of 11 folds\n"
     ]
    },
    {
     "name": "stderr",
     "output_type": "stream",
     "text": [
      "Epoch 0: 100%|██████████| 57364/57364 [02:25<00:00, 394.01batch/s, acc=0.5, loss=1.23] \n"
     ]
    },
    {
     "name": "stdout",
     "output_type": "stream",
     "text": [
      "Epoch 0 validation: Cross-entropy = 0.6568612456321716, Accuracy = 0.7403643131256104\n"
     ]
    },
    {
     "name": "stderr",
     "output_type": "stream",
     "text": [
      "Epoch 1: 100%|██████████| 57364/57364 [02:30<00:00, 380.56batch/s, acc=0.5, loss=1.26] \n"
     ]
    },
    {
     "name": "stdout",
     "output_type": "stream",
     "text": [
      "Epoch 1 validation: Cross-entropy = 0.6543489098548889, Accuracy = 0.7418460845947266\n",
      "\n",
      "Fold No. 7 out of 11 folds\n"
     ]
    },
    {
     "name": "stderr",
     "output_type": "stream",
     "text": [
      "Epoch 0: 100%|██████████| 57364/57364 [02:31<00:00, 378.78batch/s, acc=0.6, loss=1.25] \n"
     ]
    },
    {
     "name": "stdout",
     "output_type": "stream",
     "text": [
      "Epoch 0 validation: Cross-entropy = 0.9976556301116943, Accuracy = 0.6694151759147644\n"
     ]
    },
    {
     "name": "stderr",
     "output_type": "stream",
     "text": [
      "Epoch 1: 100%|██████████| 57364/57364 [02:33<00:00, 373.29batch/s, acc=0.6, loss=1.25] \n"
     ]
    },
    {
     "name": "stdout",
     "output_type": "stream",
     "text": [
      "\n",
      "Fold No. 8 out of 11 folds\n"
     ]
    },
    {
     "name": "stderr",
     "output_type": "stream",
     "text": [
      "Epoch 0: 100%|██████████| 57364/57364 [02:30<00:00, 380.22batch/s, acc=0.5, loss=1.58] \n"
     ]
    },
    {
     "name": "stdout",
     "output_type": "stream",
     "text": [
      "Epoch 0 validation: Cross-entropy = 0.9975988268852234, Accuracy = 0.6694151759147644\n"
     ]
    },
    {
     "name": "stderr",
     "output_type": "stream",
     "text": [
      "Epoch 1: 100%|██████████| 57364/57364 [02:32<00:00, 376.56batch/s, acc=0.5, loss=1.58] \n"
     ]
    },
    {
     "name": "stdout",
     "output_type": "stream",
     "text": [
      "\n",
      "Fold No. 9 out of 11 folds\n"
     ]
    },
    {
     "name": "stderr",
     "output_type": "stream",
     "text": [
      "Epoch 0: 100%|██████████| 57364/57364 [02:23<00:00, 398.96batch/s, acc=0.5, loss=1.17] \n"
     ]
    },
    {
     "name": "stdout",
     "output_type": "stream",
     "text": [
      "Epoch 0 validation: Cross-entropy = 0.6522169709205627, Accuracy = 0.7381110191345215\n"
     ]
    },
    {
     "name": "stderr",
     "output_type": "stream",
     "text": [
      "Epoch 1: 100%|██████████| 57364/57364 [02:29<00:00, 383.74batch/s, acc=0.5, loss=1.07] \n"
     ]
    },
    {
     "name": "stdout",
     "output_type": "stream",
     "text": [
      "Epoch 1 validation: Cross-entropy = 0.6492276787757874, Accuracy = 0.7395230531692505\n",
      "\n",
      "Fold No. 10 out of 11 folds\n"
     ]
    },
    {
     "name": "stderr",
     "output_type": "stream",
     "text": [
      "Epoch 0: 100%|██████████| 57364/57364 [02:34<00:00, 370.13batch/s, acc=0.6, loss=1.02] \n"
     ]
    },
    {
     "name": "stdout",
     "output_type": "stream",
     "text": [
      "Epoch 0 validation: Cross-entropy = 0.7033895254135132, Accuracy = 0.720678448677063\n"
     ]
    },
    {
     "name": "stderr",
     "output_type": "stream",
     "text": [
      "Epoch 1: 100%|██████████| 57364/57364 [02:34<00:00, 370.62batch/s, acc=0.6, loss=1.02] \n"
     ]
    },
    {
     "name": "stdout",
     "output_type": "stream",
     "text": [
      "Epoch 1 validation: Cross-entropy = 0.7012268304824829, Accuracy = 0.7216721177101135\n",
      "\n",
      "Fold No. 11 out of 11 folds\n"
     ]
    },
    {
     "name": "stderr",
     "output_type": "stream",
     "text": [
      "Epoch 0: 100%|██████████| 57364/57364 [02:23<00:00, 398.77batch/s, acc=0.5, loss=1.19] \n"
     ]
    },
    {
     "name": "stdout",
     "output_type": "stream",
     "text": [
      "Epoch 0 validation: Cross-entropy = 0.6537984609603882, Accuracy = 0.7416672706604004\n"
     ]
    },
    {
     "name": "stderr",
     "output_type": "stream",
     "text": [
      "Epoch 1: 100%|██████████| 57364/57364 [02:27<00:00, 389.30batch/s, acc=0.5, loss=1.19] \n"
     ]
    },
    {
     "name": "stdout",
     "output_type": "stream",
     "text": [
      "Epoch 1 validation: Cross-entropy = 0.6496639847755432, Accuracy = 0.7430095672607422\n",
      "\n"
     ]
    }
   ],
   "source": [
    "for i in range(11):\n",
    "    print(f\"Fold No. {i+1} out of 11 folds\")\n",
    "    X_tt = X_train_tensor[train_indices[i]]\n",
    "    y_tt = y_train_ohe_tensor[train_indices[i]]\n",
    "\n",
    "    X_ho = X_train_tensor[test_indices[i]]\n",
    "    y_ho = y_train_ohe_tensor[test_indices[i]]\n",
    "\n",
    "    X_tt = X_tt.squeeze(dim=1) # getting rid of extra unwanted dim\n",
    "    X_ho = X_ho.squeeze(dim=1) \n",
    "    \n",
    "    test_result.append(train_model(model[i], 2, 10, X_tt, y_tt, X_ho, y_ho))\n",
    "    print()\n",
    "\n",
    "    # Recall: train_model(model, n_epochs, batch_size, X_tt, y_tt, X_ho, y_ho)\n"
   ]
  },
  {
   "cell_type": "code",
   "execution_count": 19,
   "metadata": {},
   "outputs": [
    {
     "name": "stdout",
     "output_type": "stream",
     "text": [
      "Cross Entropy: 0.6515761017799377\n"
     ]
    }
   ],
   "source": [
    "ce = c_entropy(model[8](X_val_tensor).squeeze(dim=1).detach(), y_val_ohe_tensor) # Cross entropy on validation set\n",
    "print(f\"Cross Entropy: {ce}\")"
   ]
  },
  {
   "cell_type": "code",
   "execution_count": 20,
   "metadata": {},
   "outputs": [],
   "source": [
    "for i in range(11):\n",
    "    torch.save(model, f'neural_network_before_undersample_{i+1}.pt')"
   ]
  },
  {
   "cell_type": "code",
   "execution_count": 22,
   "metadata": {},
   "outputs": [
    {
     "name": "stdout",
     "output_type": "stream",
     "text": [
      "Accuracy: 0.7386564016342163\n"
     ]
    }
   ],
   "source": [
    "acc = (y_val_ohe_tensor.argmax(dim=1) == model[8](X_val_tensor).squeeze(dim=1).argmax(dim=1)).float().mean() # Accuracy on validation set\n",
    "print(f\"Accuracy: {acc}\")"
   ]
  },
  {
   "cell_type": "code",
   "execution_count": 23,
   "metadata": {},
   "outputs": [
    {
     "data": {
      "image/png": "[encoded data removed]",
      "text/plain": [
       "<Figure size 640x480 with 2 Axes>"
      ]
     },
     "metadata": {},
     "output_type": "display_data"
    }
   ],
   "source": [
    "ConfusionMatrixDisplay.from_predictions(\n",
    "    y_val_ohe_tensor.argmax(dim=1), \n",
    "    model[8](X_val_tensor).squeeze(dim=1).argmax(dim=1), \n",
    "    normalize = 'true',\n",
    "    display_labels = [1, 2, 3, 4, 5])\n",
    "plt.show()"
   ]
  },
  {
   "cell_type": "code",
   "execution_count": 24,
   "metadata": {},
   "outputs": [],
   "source": [
    "def pos_or_neg(n): # if n is 1 or 2 return 0 else return 1:\n",
    "    if n == 1 or n == 2:\n",
    "        return 0\n",
    "    else:\n",
    "        return 1"
   ]
  },
  {
   "cell_type": "code",
   "execution_count": 26,
   "metadata": {},
   "outputs": [],
   "source": [
    "L1 = list(map(pos_or_neg, model[8](X_val_tensor).squeeze(dim=1).argmax(dim=1)))\n",
    "L2 = list(map(pos_or_neg, y_val_ohe_tensor.argmax(dim=1)))\n",
    "L = [(L1[i] == L2[i]) * 1.0 for i in range(len(L1))]"
   ]
  },
  {
   "cell_type": "code",
   "execution_count": 27,
   "metadata": {},
   "outputs": [
    {
     "data": {
      "text/plain": [
       "0.9203570115496279"
      ]
     },
     "execution_count": 27,
     "metadata": {},
     "output_type": "execute_result"
    }
   ],
   "source": [
    "sum(L)/len(L) # accuracy by setting 1, 2: 0 and 3, 4, 5: 1"
   ]
  },
  {
   "cell_type": "code",
   "execution_count": 29,
   "metadata": {},
   "outputs": [],
   "source": [
    "torch.save(model[8], 'neural_network_before_undersample_best.pt')"
   ]
  },
  {
   "cell_type": "markdown",
   "metadata": {},
   "source": [
    "### FFN with Random Undersampling"
   ]
  },
  {
   "cell_type": "code",
   "execution_count": 43,
   "metadata": {},
   "outputs": [],
   "source": [
    "rus = RandomUnderSampler(random_state = 123)"
   ]
  },
  {
   "cell_type": "code",
   "execution_count": 114,
   "metadata": {},
   "outputs": [],
   "source": [
    "X_rus_train, y_rus_train = rus.fit_resample(X_train, y_train)"
   ]
  },
  {
   "cell_type": "code",
   "execution_count": 186,
   "metadata": {},
   "outputs": [],
   "source": [
    "model_rus = [Multiclass() for i in range(11)] # models with random undersampling"
   ]
  },
  {
   "cell_type": "code",
   "execution_count": 189,
   "metadata": {},
   "outputs": [
    {
     "name": "stdout",
     "output_type": "stream",
     "text": [
      "Fold No 1\n"
     ]
    },
    {
     "name": "stderr",
     "output_type": "stream",
     "text": [
      "Epoch 0: 100%|██████████| 6838/6838 [00:28<00:00, 238.26batch/s, acc=1, loss=0.0828]  \n"
     ]
    },
    {
     "name": "stdout",
     "output_type": "stream",
     "text": [
      "Epoch 0 validation: Cross-entropy = 1.4098495244979858, Accuracy = 0.6694151759147644\n"
     ]
    },
    {
     "name": "stderr",
     "output_type": "stream",
     "text": [
      "Epoch 1: 100%|██████████| 6838/6838 [00:29<00:00, 233.19batch/s, acc=1, loss=0.0135]  \n"
     ]
    },
    {
     "name": "stdout",
     "output_type": "stream",
     "text": [
      "\n",
      "Fold No 2\n"
     ]
    },
    {
     "name": "stderr",
     "output_type": "stream",
     "text": [
      "Epoch 0: 100%|██████████| 6838/6838 [00:28<00:00, 241.62batch/s, acc=1, loss=0.434]   \n"
     ]
    },
    {
     "name": "stdout",
     "output_type": "stream",
     "text": [
      "Epoch 0 validation: Cross-entropy = 1.076777696609497, Accuracy = 0.6694151759147644\n"
     ]
    },
    {
     "name": "stderr",
     "output_type": "stream",
     "text": [
      "Epoch 1: 100%|██████████| 6838/6838 [00:29<00:00, 232.21batch/s, acc=1, loss=0.143]   \n"
     ]
    },
    {
     "name": "stdout",
     "output_type": "stream",
     "text": [
      "\n",
      "Fold No 3\n"
     ]
    },
    {
     "name": "stderr",
     "output_type": "stream",
     "text": [
      "Epoch 0: 100%|██████████| 6838/6838 [00:29<00:00, 234.78batch/s, acc=1, loss=0.222]   \n"
     ]
    },
    {
     "name": "stdout",
     "output_type": "stream",
     "text": [
      "Epoch 0 validation: Cross-entropy = 1.0499894618988037, Accuracy = 0.6694151759147644\n"
     ]
    },
    {
     "name": "stderr",
     "output_type": "stream",
     "text": [
      "Epoch 1: 100%|██████████| 6838/6838 [00:28<00:00, 236.16batch/s, acc=1, loss=0.149]   \n"
     ]
    },
    {
     "name": "stdout",
     "output_type": "stream",
     "text": [
      "\n",
      "Fold No 4\n"
     ]
    },
    {
     "name": "stderr",
     "output_type": "stream",
     "text": [
      "Epoch 0: 100%|██████████| 6838/6838 [00:29<00:00, 235.43batch/s, acc=0, loss=1.24]   \n"
     ]
    },
    {
     "name": "stdout",
     "output_type": "stream",
     "text": [
      "Epoch 0 validation: Cross-entropy = 1.3684524297714233, Accuracy = 0.195851132273674\n"
     ]
    },
    {
     "name": "stderr",
     "output_type": "stream",
     "text": [
      "Epoch 1: 100%|██████████| 6838/6838 [00:29<00:00, 228.12batch/s, acc=1, loss=0.753] \n"
     ]
    },
    {
     "name": "stdout",
     "output_type": "stream",
     "text": [
      "Epoch 1 validation: Cross-entropy = 1.1032841205596924, Accuracy = 0.6694151759147644\n",
      "\n",
      "Fold No 5\n"
     ]
    },
    {
     "name": "stderr",
     "output_type": "stream",
     "text": [
      "Epoch 0: 100%|██████████| 6838/6838 [00:28<00:00, 238.17batch/s, acc=1, loss=0.000406]\n"
     ]
    },
    {
     "name": "stdout",
     "output_type": "stream",
     "text": [
      "Epoch 0 validation: Cross-entropy = 3.2785208225250244, Accuracy = 0.6694151759147644\n"
     ]
    },
    {
     "name": "stderr",
     "output_type": "stream",
     "text": [
      "Epoch 1: 100%|██████████| 6838/6838 [00:29<00:00, 232.76batch/s, acc=1, loss=0.000809]\n"
     ]
    },
    {
     "name": "stdout",
     "output_type": "stream",
     "text": [
      "\n",
      "Fold No 6\n"
     ]
    },
    {
     "name": "stderr",
     "output_type": "stream",
     "text": [
      "Epoch 0: 100%|██████████| 6838/6838 [00:29<00:00, 231.46batch/s, acc=1, loss=0.933]  \n"
     ]
    },
    {
     "name": "stdout",
     "output_type": "stream",
     "text": [
      "Epoch 0 validation: Cross-entropy = 1.19319748878479, Accuracy = 0.6694151759147644\n"
     ]
    },
    {
     "name": "stderr",
     "output_type": "stream",
     "text": [
      "Epoch 1: 100%|██████████| 6838/6838 [00:30<00:00, 225.20batch/s, acc=1, loss=0.72]  \n"
     ]
    },
    {
     "name": "stdout",
     "output_type": "stream",
     "text": [
      "\n",
      "Fold No 7\n"
     ]
    },
    {
     "name": "stderr",
     "output_type": "stream",
     "text": [
      "Epoch 0: 100%|██████████| 6838/6838 [00:29<00:00, 233.86batch/s, acc=1, loss=0.0315]  \n"
     ]
    },
    {
     "name": "stdout",
     "output_type": "stream",
     "text": [
      "Epoch 0 validation: Cross-entropy = 1.6034533977508545, Accuracy = 0.6694151759147644\n"
     ]
    },
    {
     "name": "stderr",
     "output_type": "stream",
     "text": [
      "Epoch 1: 100%|██████████| 6838/6838 [00:29<00:00, 229.08batch/s, acc=1, loss=0.0065]  \n"
     ]
    },
    {
     "name": "stdout",
     "output_type": "stream",
     "text": [
      "\n",
      "Fold No 8\n"
     ]
    },
    {
     "name": "stderr",
     "output_type": "stream",
     "text": [
      "Epoch 0: 100%|██████████| 6838/6838 [00:29<00:00, 228.99batch/s, acc=1, loss=1.06]   \n"
     ]
    },
    {
     "name": "stdout",
     "output_type": "stream",
     "text": [
      "Epoch 0 validation: Cross-entropy = 1.25015389919281, Accuracy = 0.6694151759147644\n"
     ]
    },
    {
     "name": "stderr",
     "output_type": "stream",
     "text": [
      "Epoch 1: 100%|██████████| 6838/6838 [00:30<00:00, 223.59batch/s, acc=1, loss=0.744] \n"
     ]
    },
    {
     "name": "stdout",
     "output_type": "stream",
     "text": [
      "\n",
      "Fold No 9\n"
     ]
    },
    {
     "name": "stderr",
     "output_type": "stream",
     "text": [
      "Epoch 0: 100%|██████████| 6838/6838 [00:30<00:00, 221.85batch/s, acc=1, loss=0.914] \n"
     ]
    },
    {
     "name": "stdout",
     "output_type": "stream",
     "text": [
      "Epoch 0 validation: Cross-entropy = 1.181389570236206, Accuracy = 0.6694093942642212\n"
     ]
    },
    {
     "name": "stderr",
     "output_type": "stream",
     "text": [
      "Epoch 1: 100%|██████████| 6838/6838 [00:30<00:00, 222.20batch/s, acc=1, loss=0.733] \n"
     ]
    },
    {
     "name": "stdout",
     "output_type": "stream",
     "text": [
      "\n",
      "Fold No 10\n"
     ]
    },
    {
     "name": "stderr",
     "output_type": "stream",
     "text": [
      "Epoch 0: 100%|██████████| 6838/6838 [00:29<00:00, 232.10batch/s, acc=1, loss=0.61]    \n"
     ]
    },
    {
     "name": "stdout",
     "output_type": "stream",
     "text": [
      "Epoch 0 validation: Cross-entropy = 1.0682010650634766, Accuracy = 0.6694093942642212\n"
     ]
    },
    {
     "name": "stderr",
     "output_type": "stream",
     "text": [
      "Epoch 1: 100%|██████████| 6838/6838 [00:29<00:00, 230.46batch/s, acc=1, loss=0.675] \n"
     ]
    },
    {
     "name": "stdout",
     "output_type": "stream",
     "text": [
      "\n",
      "Fold No 11\n"
     ]
    },
    {
     "name": "stderr",
     "output_type": "stream",
     "text": [
      "Epoch 0: 100%|██████████| 6838/6838 [00:29<00:00, 233.49batch/s, acc=1, loss=0.848]   \n"
     ]
    },
    {
     "name": "stdout",
     "output_type": "stream",
     "text": [
      "Epoch 0 validation: Cross-entropy = 1.155557632446289, Accuracy = 0.6694093942642212\n"
     ]
    },
    {
     "name": "stderr",
     "output_type": "stream",
     "text": [
      "Epoch 1: 100%|██████████| 6838/6838 [00:29<00:00, 229.10batch/s, acc=1, loss=0.698] \n"
     ]
    },
    {
     "name": "stdout",
     "output_type": "stream",
     "text": [
      "\n"
     ]
    }
   ],
   "source": [
    "test_result_rus = []\n",
    "\n",
    "for i, (train_index, test_index) in enumerate(kfold.split(X_train, y_train)):\n",
    "\n",
    "    print(f\"Fold No {i+1}\")\n",
    "\n",
    "    X_tt = X_train.iloc[train_index]\n",
    "    y_tt = y_train.iloc[train_index]\n",
    "\n",
    "    X_ho = X_train.iloc[test_index]\n",
    "    y_ho = y_train.iloc[test_index]\n",
    "\n",
    "    X_rus_tt, y_rus_tt = rus.fit_resample(X_tt, y_tt)\n",
    "\n",
    "    ohe_y_rus_tt = OneHotEncoder(handle_unknown='ignore', sparse_output=False).fit(y_rus_tt)\n",
    "    y_rus_tt_ohe = ohe_y_rus_tt.transform(y_rus_tt)\n",
    "\n",
    "    ohe_y_ho = OneHotEncoder(handle_unknown='ignore', sparse_output=False).fit(y_ho)\n",
    "    y_ho_ohe = ohe_y_ho.transform(y_ho)\n",
    "\n",
    "    X_rus_tt = list(map(lambda x : x.tolist(), X_rus_tt.iloc[:,0].to_list())) # each numpy array needs to be changed into list\n",
    "    X_ho = list(map(lambda x : x.tolist(), X_ho.iloc[:,0].to_list()))\n",
    "\n",
    "    X_rus_tt = torch.tensor(X_rus_tt, dtype = torch.float32)\n",
    "    X_ho = torch.tensor(X_ho, dtype = torch.float32)\n",
    "\n",
    "    y_rus_tt_ohe = torch.tensor(y_rus_tt_ohe, dtype = torch.float32)\n",
    "    y_ho_ohe = torch.tensor(y_ho_ohe, dtype = torch.float32)\n",
    "\n",
    "    test_result_rus.append(train_model(model_rus[i], 2, 10, X_rus_tt, y_rus_tt_ohe, X_ho, y_ho_ohe)) \n",
    "\n",
    "    print()\n",
    "    \n",
    "# Recall --> train_model(model, n_epochs, batch_size, X_tt, y_tt, X_ho, y_ho):"
   ]
  },
  {
   "cell_type": "markdown",
   "metadata": {},
   "source": [
    "**Remark**. For the perfectly balanced data (after random undersampling), the FFN does not seem to work properly with StratifiedKFold (or KFold). It seems that the back propogation somehow stops and keeps predicting rating 5 for 100%. (All 11-folds had this issue.)"
   ]
  },
  {
   "cell_type": "markdown",
   "metadata": {},
   "source": [
    "When we use train_test_split instead of KFold, the FNN did not have the same issue:"
   ]
  },
  {
   "cell_type": "code",
   "execution_count": 215,
   "metadata": {},
   "outputs": [
    {
     "name": "stderr",
     "output_type": "stream",
     "text": [
      "Epoch 0: 100%|██████████| 6838/6838 [00:19<00:00, 351.19batch/s, acc=0.8, loss=0.91] \n"
     ]
    },
    {
     "name": "stdout",
     "output_type": "stream",
     "text": [
      "Epoch 0 validation: Cross-entropy = 1.1183767318725586, Accuracy = 0.5043134689331055\n"
     ]
    },
    {
     "name": "stderr",
     "output_type": "stream",
     "text": [
      "Epoch 1: 100%|██████████| 6838/6838 [00:19<00:00, 351.68batch/s, acc=0.9, loss=0.795]"
     ]
    },
    {
     "name": "stdout",
     "output_type": "stream",
     "text": [
      "Epoch 1 validation: Cross-entropy = 1.082909107208252, Accuracy = 0.516157329082489\n"
     ]
    },
    {
     "name": "stderr",
     "output_type": "stream",
     "text": [
      "\n"
     ]
    }
   ],
   "source": [
    "test_result_rus = []\n",
    "model_rus = Multiclass()\n",
    "\n",
    "X_rus_tt, X_rus_ho, y_rus_tt, y_rus_ho = train_test_split(X_rus_train, y_rus_train, stratify = y_rus_train, test_size = 1/11, random_state = 123)\n",
    "\n",
    "ohe_y_rus_tt = OneHotEncoder(handle_unknown='ignore', sparse_output=False).fit(y_rus_tt)\n",
    "y_rus_tt_ohe = ohe_y_rus_tt.transform(y_rus_tt)\n",
    "\n",
    "ohe_y_rus_ho = OneHotEncoder(handle_unknown='ignore', sparse_output=False).fit(y_rus_ho)\n",
    "y_rus_ho_ohe = ohe_y_rus_ho.transform(y_rus_ho)\n",
    "\n",
    "X_rus_tt = list(map(lambda x : x.tolist(), X_rus_tt['vector'].tolist()))\n",
    "X_rus_ho = list(map(lambda x : x.tolist(), X_rus_ho['vector'].tolist()))\n",
    "\n",
    "X_rus_tt = torch.tensor(X_rus_tt, dtype = torch.float32)\n",
    "X_rus_ho = torch.tensor(X_rus_ho, dtype = torch.float32)\n",
    "\n",
    "# X_rus_tt = X_rus_tt.squeeze(dim=1) # there is extra dimension (could be a bug with RandomUnderSampler)\n",
    "# X_rus_ho = X_rus_ho.squeeze(dim=1)\n",
    "\n",
    "y_rus_tt_ohe = torch.tensor(y_rus_tt_ohe, dtype = torch.float32)\n",
    "y_rus_ho_ohe = torch.tensor(y_rus_ho_ohe, dtype = torch.float32)\n",
    "\n",
    "test_result_rus.append(train_model(model_rus, 2, 10, X_rus_tt, y_rus_tt_ohe, X_rus_ho, y_rus_ho_ohe)) \n",
    "\n",
    "# Recall: train_model(model, n_epochs, batch_size, X_tt, y_tt, X_ho, y_ho)"
   ]
  },
  {
   "cell_type": "code",
   "execution_count": 216,
   "metadata": {},
   "outputs": [
    {
     "data": {
      "text/plain": [
       "tensor(0.6455)"
      ]
     },
     "execution_count": 216,
     "metadata": {},
     "output_type": "execute_result"
    }
   ],
   "source": [
    "(y_val_ohe_tensor.argmax(dim=1) == model_rus(X_val_tensor).squeeze(dim=1).argmax(dim=1)).float().mean() # Accuracy on validation set"
   ]
  },
  {
   "cell_type": "code",
   "execution_count": 217,
   "metadata": {},
   "outputs": [
    {
     "data": {
      "image/png": "[encoded data removed]",
      "text/plain": [
       "<Figure size 640x480 with 2 Axes>"
      ]
     },
     "metadata": {},
     "output_type": "display_data"
    }
   ],
   "source": [
    "ConfusionMatrixDisplay.from_predictions(\n",
    "    y_val_ohe_tensor.argmax(dim=1), \n",
    "    model_rus(X_val_tensor)[:,0].argmax(dim=1), \n",
    "    normalize = 'true',\n",
    "    display_labels = [1, 2, 3, 4, 5])\n",
    "plt.show()"
   ]
  },
  {
   "cell_type": "code",
   "execution_count": 218,
   "metadata": {},
   "outputs": [],
   "source": [
    "torch.save(model_rus, 'neural_network_after_undersample_with_2_hidden_layers.pt')"
   ]
  }
 ],
 "metadata": {
  "kernelspec": {
   "display_name": "Python 3",
   "language": "python",
   "name": "python3"
  },
  "language_info": {
   "codemirror_mode": {
    "name": "ipython",
    "version": 3
   },
   "file_extension": ".py",
   "mimetype": "text/x-python",
   "name": "python",
   "nbconvert_exporter": "python",
   "pygments_lexer": "ipython3",
   "version": "3.12.1"
  }
 },
 "nbformat": 4,
 "nbformat_minor": 2
}
