{
 "cells": [
  {
   "cell_type": "markdown",
   "metadata": {},
   "source": [
    "# Scraping Costco Warehouse Addresses"
   ]
  },
  {
   "cell_type": "code",
   "execution_count": 1,
   "metadata": {},
   "outputs": [],
   "source": [
    "from selenium import webdriver\n",
    "from selenium.webdriver.common.by import By\n",
    "from bs4 import BeautifulSoup\n",
    "\n",
    "import pandas as pd\n",
    "from time import sleep"
   ]
  },
  {
   "cell_type": "code",
   "execution_count": 2,
   "metadata": {},
   "outputs": [],
   "source": [
    "costco_url = \"https://www.costco.com/WarehouseListByStateDisplayView\""
   ]
  },
  {
   "cell_type": "code",
   "execution_count": 11,
   "metadata": {},
   "outputs": [],
   "source": [
    "driver = webdriver.Firefox()\n",
    "driver.implicitly_wait(30)\n",
    "driver.get(costco_url)"
   ]
  },
  {
   "cell_type": "code",
   "execution_count": 15,
   "metadata": {},
   "outputs": [],
   "source": [
    "state_links = [link for link in driver.find_elements(By.CLASS_NAME, \"warehouse-title-link\") if link.text != \"\"]"
   ]
  },
  {
   "cell_type": "code",
   "execution_count": 16,
   "metadata": {},
   "outputs": [
    {
     "name": "stdout",
     "output_type": "stream",
     "text": [
      "Alabama              4\n",
      "Louisiana            3\n",
      "Oklahoma             4\n",
      "Alaska               6\n",
      "Maine                1\n",
      "Oregon               13\n",
      "Arizona              20\n",
      "Maryland             11\n",
      "Pennsylvania         11\n",
      "Arkansas             1\n",
      "Massachusetts        6\n",
      "Puerto Rico          5\n",
      "California           138\n",
      "Michigan             17\n",
      "Colorado             16\n",
      "Minnesota            13\n",
      "South Carolina       6\n",
      "Connecticut          8\n",
      "Mississippi          1\n",
      "South Dakota         1\n",
      "Delaware             1\n",
      "Missouri             9\n",
      "Tennessee            8\n",
      "District of Columbia 1\n",
      "Montana              5\n",
      "Texas                39\n",
      "Florida              33\n",
      "Nebraska             3\n",
      "Utah                 14\n",
      "Georgia              17\n",
      "Nevada               8\n",
      "Vermont              1\n",
      "Hawaii               7\n",
      "New Hampshire        1\n",
      "Virginia             17\n",
      "Idaho                7\n",
      "New Jersey           21\n",
      "Washington           33\n",
      "Illinois             23\n",
      "New Mexico           3\n",
      "Indiana              9\n",
      "New York             19\n",
      "Wisconsin            11\n",
      "Iowa                 4\n",
      "North Carolina       10\n",
      "Kansas               3\n",
      "North Dakota         2\n",
      "Kentucky             4\n",
      "Ohio                 13\n"
     ]
    }
   ],
   "source": [
    "warehouse_links = []\n",
    "\n",
    "for state_link in state_links:\n",
    "    state_link.click()\n",
    "    print(f\"{state_link.text:20}\", end=\" \")\n",
    "    sleep(1)\n",
    "\n",
    "    soup = BeautifulSoup(driver.page_source)\n",
    "    links = [link for link in soup.find_all(\"a\") if link.text == \"Get Directions\"]\n",
    "    print(len(links))\n",
    "    warehouse_links += links"
   ]
  },
  {
   "cell_type": "code",
   "execution_count": 22,
   "metadata": {},
   "outputs": [],
   "source": [
    "locations = []\n",
    "\n",
    "for warehouse_link in warehouse_links:\n",
    "    name = warehouse_link.parent.parent.a.text\n",
    "    address_lines = warehouse_link.parent.parent.find(\"div\", attrs={\"class\": \"h6-style-guide\"}).contents[::2]\n",
    "    location_data = [name, address_lines[0].strip()] + address_lines[1].strip().replace(\",\", \"\").split(\"\\xa0\")\n",
    "    location_data.append(warehouse_link[\"onclick\"][30:-9].replace(\"%20\", \" \"))\n",
    "\n",
    "    locations.append(location_data)"
   ]
  },
  {
   "cell_type": "code",
   "execution_count": 26,
   "metadata": {},
   "outputs": [
    {
     "name": "stdout",
     "output_type": "stream",
     "text": [
      "Saved!\n"
     ]
    }
   ],
   "source": [
    "if len(locations) == 611:\n",
    "    costco_locations = pd.DataFrame(locations, columns=[\"name\", \"address\", \"city\", \"state\", \"zipcode\", \"google_query\"])\n",
    "    costco_locations.to_csv(\"../data/costco_locations.csv\")\n",
    "    print(\"Saved!\")\n",
    "else:\n",
    "    print(\"Wrong number of warehouses...\")"
   ]
  }
 ],
 "metadata": {
  "kernelspec": {
   "display_name": "erdos_company_discourse",
   "language": "python",
   "name": "python3"
  },
  "language_info": {
   "codemirror_mode": {
    "name": "ipython",
    "version": 3
   },
   "file_extension": ".py",
   "mimetype": "text/x-python",
   "name": "python",
   "nbconvert_exporter": "python",
   "pygments_lexer": "ipython3",
   "version": "3.11.9"
  }
 },
 "nbformat": 4,
 "nbformat_minor": 2
}
