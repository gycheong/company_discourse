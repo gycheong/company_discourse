{
 "cells": [
  {
   "cell_type": "code",
   "execution_count": 1,
   "metadata": {},
   "outputs": [],
   "source": [
    "import json\n",
    "import os"
   ]
  },
  {
   "cell_type": "code",
   "execution_count": 18,
   "metadata": {},
   "outputs": [],
   "source": [
    "def get_company_locations_metadata(company_name: str, filename: str):\n",
    "    lower_company_name = company_name.lower()\n",
    "\n",
    "    company_locations = []\n",
    "    with open(filename,\"r\") as file:\n",
    "        for line in file:\n",
    "            location_metadata = json.loads(line)\n",
    "            if location_metadata[\"name\"] and lower_company_name in location_metadata[\"name\"].lower():\n",
    "                company_locations.append(location_metadata)\n",
    "\n",
    "    return company_locations"
   ]
  },
  {
   "cell_type": "code",
   "execution_count": 19,
   "metadata": {},
   "outputs": [],
   "source": [
    "def get_reviews(gmap_ids: set, filename: str):\n",
    "    reviews = []\n",
    "    with open(filename, \"r\") as file:\n",
    "        for line in file:\n",
    "            review = json.loads(line)\n",
    "            if review[\"gmap_id\"] in gmap_ids:\n",
    "                reviews.append(review)\n",
    "    return reviews"
   ]
  },
  {
   "cell_type": "code",
   "execution_count": 34,
   "metadata": {},
   "outputs": [],
   "source": [
    "def get_company_data(company_name: str, state: str):\n",
    "    data_folder = os.path.join(\"..\", \"data\", \"raw\")\n",
    "    snake_case_state = state.replace(\" \", \"_\")\n",
    "\n",
    "    company_locations = get_company_locations_metadata(company_name, os.path.join(data_folder, f\"meta-{snake_case_state}.json\"))\n",
    "    gmap_ids = set(company_location[\"gmap_id\"] for company_location in company_locations)\n",
    "\n",
    "    reviews = get_reviews(gmap_ids, os.path.join(data_folder, f\"review-{snake_case_state}.json\"))\n",
    "    return company_locations, reviews"
   ]
  },
  {
   "cell_type": "code",
   "execution_count": 85,
   "metadata": {},
   "outputs": [],
   "source": [
    "def save_company_data(company_name: str, state: str):\n",
    "    company_locations, reviews = get_company_data(company_name, state)\n",
    "    folder = os.path.join(\"..\", \"data\", \"raw\")\n",
    "\n",
    "    company_name_formatted = company_name.lower().replace(\" \", \"_\")\n",
    "    state_formatted = state.lower().replace(\" \", \"_\")\n",
    "\n",
    "    with open(os.path.join(folder, f\"{company_name_formatted}_{state_formatted}_2021_locations.json\"), \"w+\") as file:\n",
    "        json.dump(company_locations, file, indent=2)\n",
    "\n",
    "    with open(os.path.join(folder, f\"{company_name_formatted}_{state_formatted}_2021_reviews.json\"), \"w+\") as file:\n",
    "        json.dump(reviews, file, indent=2)\n"
   ]
  },
  {
   "cell_type": "code",
   "execution_count": 24,
   "metadata": {},
   "outputs": [],
   "source": [
    "states = [\n",
    "    \"Alabama\", \"Alaska\", \"Arizona\", \"Arkansas\", \"California\", \"Colorado\", \"Connecticut\", \"Delaware\", \"District of Columbia\",\n",
    "    \"Florida\", \"Georgia\", \"Hawaii\", \"Idaho\", \"Illinois\", \"Indiana\", \"Iowa\", \"Kansas\", \"Kentucky\", \"Louisiana\", \"Maine\", \"Maryland\",\n",
    "    \"Massachusetts\", \"Michigan\", \"Minnesota\", \"Mississippi\", \"Missouri\", \"Montana\", \"Nebraska\", \"Nevada\", \"New Hampshire\",\n",
    "    \"New Jersey\", \"New Mexico\", \"New York\", \"North Carolina\", \"North Dakota\", \"Ohio\", \"Oklahoma\", \"Oregon\", \"Pennsylvania\",\n",
    "    \"Rhode Island\", \"South Carolina\", \"South Dakota\", \"Tennessee\", \"Texas\", \"Utah\", \"Vermont\", \"Virginia\", \"Washington\",\n",
    "    \"West Virginia\", \"Wisconsin\", \"Wyoming\", \"other\",\n",
    "]"
   ]
  },
  {
   "cell_type": "code",
   "execution_count": 86,
   "metadata": {},
   "outputs": [],
   "source": [
    "save_company_data(\"Costco\", states[0])"
   ]
  },
  {
   "cell_type": "code",
   "execution_count": 80,
   "metadata": {},
   "outputs": [],
   "source": [
    "for state in states:\n",
    "    save_company_data(\"Costco\", state)"
   ]
  },
  {
   "cell_type": "code",
   "execution_count": 87,
   "metadata": {},
   "outputs": [],
   "source": [
    "def merge_files(company_name):\n",
    "    folder = os.path.join(\"..\", \"data\", \"raw\")\n",
    "\n",
    "    company_name_formatted = company_name.lower().replace(\" \", \"_\")\n",
    "    for datatype in [\"locations\", \"reviews\"]:\n",
    "        data = []\n",
    "        for state in states:\n",
    "            state_formatted = state.lower().replace(\" \", \"_\")\n",
    "\n",
    "            with open(os.path.join(folder, f\"{company_name_formatted}_{state_formatted}_2021_{datatype}.json\"), \"r\") as file:\n",
    "                state_data = json.load(file)\n",
    "\n",
    "            data += state_data\n",
    "\n",
    "        with open(os.path.join(folder, f\"{company_name_formatted}_2021_{datatype}.json\"), \"w+\") as file:\n",
    "                json.dump(data, file, indent=2)"
   ]
  },
  {
   "cell_type": "code",
   "execution_count": 88,
   "metadata": {},
   "outputs": [],
   "source": [
    "merge_files(\"Costco\")"
   ]
  }
 ],
 "metadata": {
  "kernelspec": {
   "display_name": "erdos_company_discourse",
   "language": "python",
   "name": "python3"
  },
  "language_info": {
   "codemirror_mode": {
    "name": "ipython",
    "version": 3
   },
   "file_extension": ".py",
   "mimetype": "text/x-python",
   "name": "python",
   "nbconvert_exporter": "python",
   "pygments_lexer": "ipython3",
   "version": "3.11.9"
  }
 },
 "nbformat": 4,
 "nbformat_minor": 2
}
